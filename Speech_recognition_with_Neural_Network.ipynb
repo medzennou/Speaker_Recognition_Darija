{
 "cells": [
  {
   "cell_type": "code",
   "execution_count": null,
   "metadata": {
    "colab": {},
    "colab_type": "code",
    "id": "tKNm45rzKYKN"
   },
   "outputs": [],
   "source": [
    "#@title Run on TensorFlow 2.x\n",
    "%tensorflow_version 2.x"
   ]
  },
  {
   "cell_type": "code",
   "execution_count": 2,
   "metadata": {
    "colab": {},
    "colab_type": "code",
    "id": "AfbxNVjkaQjS"
   },
   "outputs": [],
   "source": [
    "import librosa\n",
    "import librosa.display as ds\n",
    "import IPython.display as ipd\n",
    "import pandas as pd\n",
    "import numpy as np\n",
    "import tensorflow as tf\n",
    "import json\n",
    "from sklearn.metrics import f1_score\n",
    "from sklearn import preprocessing\n",
    "from sklearn.model_selection import train_test_split\n",
    "import matplotlib.pyplot as plt"
   ]
  },
  {
   "cell_type": "code",
   "execution_count": 3,
   "metadata": {
    "colab": {},
    "colab_type": "code",
    "id": "pI8Atgp4Fiu_"
   },
   "outputs": [],
   "source": [
    "#pip install -U keras-tuner\n"
   ]
  },
  {
   "cell_type": "markdown",
   "metadata": {},
   "source": [
    "<h2>Find the best parameters"
   ]
  },
  {
   "cell_type": "code",
   "execution_count": null,
   "metadata": {
    "colab": {},
    "colab_type": "code",
    "id": "6efGelshfl5n"
   },
   "outputs": [],
   "source": [
    "from kerastuner import HyperModel\n",
    "class CNNHyperModel(HyperModel):\n",
    "    def __init__(self, input_shape, num_classes):\n",
    "        self.input_shape = input_shape\n",
    "        self.num_classes = num_classes\n",
    "\n",
    "    def build(self, hp):\n",
    "        model = tf.keras.Sequential()\n",
    "\n",
    "        model.add(tf.keras.layers.Flatten(input_shape=self.input_shape))\n",
    "\n",
    "        model.add(\n",
    "            tf.keras.layers.Dense(units=hp.Int('units',\n",
    "                                        min_value=32,\n",
    "                                        max_value=512,\n",
    "                                        step=32),\n",
    "                           activation='relu'\n",
    "            ))\n",
    "        \n",
    "        model.add(\n",
    "            tf.keras.layers.Dense(units=hp.Int('units',\n",
    "                                        min_value=32,\n",
    "                                        max_value=512,\n",
    "                                        step=32),\n",
    "                           activation='relu'\n",
    "            ))\n",
    "        \n",
    "        model.add(\n",
    "           tf.keras.layers.Dropout(rate=hp.Float(\n",
    "                'dropout_1',\n",
    "                min_value=0.0,\n",
    "                max_value=0.5,\n",
    "                default=0.25,\n",
    "                step=0.05,\n",
    "            ))\n",
    "        )\n",
    "        model.add(\n",
    "            tf.keras.layers.Dense(units=hp.Int('units',\n",
    "                                        min_value=32,\n",
    "                                        max_value=512,\n",
    "                                        step=32),\n",
    "                            activation=hp.Choice(\n",
    "                    'dense_activation',\n",
    "                    values=['relu', 'tanh', 'sigmoid'],\n",
    "                    default='relu'\n",
    "                )\n",
    "            ))\n",
    "        \n",
    "        model.add(\n",
    "            tf.keras.layers.Dropout(rate=hp.Float(\n",
    "                'dropout_2',\n",
    "                min_value=0.0,\n",
    "                max_value=0.5,\n",
    "                default=0.25,\n",
    "                step=0.05,\n",
    "            ))\n",
    "        )\n",
    "      \n",
    "        model.add(tf.keras.layers.Dense(self.num_classes, activation='softmax'))\n",
    "\n",
    "        model.compile(\n",
    "            optimizer=tf.keras.optimizers.Adam(\n",
    "                hp.Float(\n",
    "                    'learning_rate',\n",
    "                    min_value=1e-4,\n",
    "                    max_value=1e-2,\n",
    "                    sampling='LOG',\n",
    "                    default=1e-3\n",
    "                )\n",
    "            ),\n",
    "            loss='sparse_categorical_crossentropy',\n",
    "            metrics=['accuracy']\n",
    "        )\n",
    "        return model\n",
    "\n"
   ]
  },
  {
   "cell_type": "code",
   "execution_count": null,
   "metadata": {
    "colab": {},
    "colab_type": "code",
    "id": "oFEqNirviqU_"
   },
   "outputs": [],
   "source": [
    "from kerastuner.tuners import RandomSearch\n",
    "\n",
    "NUM_CLASSES = 75  # cifar10 number of classes\n",
    "INPUT_SHAPE = (X_train.shape[1],1)  # cifar10 images input shape\n",
    "\n",
    "hypermodel = CNNHyperModel(input_shape=INPUT_SHAPE, num_classes=NUM_CLASSES)\n",
    "\n",
    "tuner = RandomSearch(\n",
    "    hypermodel,\n",
    "    objective='val_accuracy',\n",
    "    seed=1,\n",
    "    max_trials=20,\n",
    "    executions_per_trial=2,\n",
    "    directory='random_search',\n",
    "    project_name='Speaker'\n",
    ")"
   ]
  },
  {
   "cell_type": "code",
   "execution_count": null,
   "metadata": {
    "colab": {
     "base_uri": "https://localhost:8080/",
     "height": 651
    },
    "colab_type": "code",
    "id": "XKbhx5BVGDxE",
    "outputId": "0a28fd25-1b5b-4cb0-efe7-5a64d04dad8a"
   },
   "outputs": [
    {
     "data": {
      "text/html": [
       "<span style=\"color:#4527A0\"><h1 style=\"font-size:18px\">Search space summary</h1></span>"
      ],
      "text/plain": [
       "<IPython.core.display.HTML object>"
      ]
     },
     "metadata": {
      "tags": []
     },
     "output_type": "display_data"
    },
    {
     "data": {
      "text/html": [
       "<span style=\"color:cyan\"> |-Default search space size: 5</span>"
      ],
      "text/plain": [
       "<IPython.core.display.HTML object>"
      ]
     },
     "metadata": {
      "tags": []
     },
     "output_type": "display_data"
    },
    {
     "data": {
      "text/html": [
       "<span style=\"color:#7E57C2\"><h2 style=\"font-size:16px\">units (Int)</h2></span>"
      ],
      "text/plain": [
       "<IPython.core.display.HTML object>"
      ]
     },
     "metadata": {
      "tags": []
     },
     "output_type": "display_data"
    },
    {
     "data": {
      "text/html": [
       "<span style=\"color:cyan\"> |-default: None</span>"
      ],
      "text/plain": [
       "<IPython.core.display.HTML object>"
      ]
     },
     "metadata": {
      "tags": []
     },
     "output_type": "display_data"
    },
    {
     "data": {
      "text/html": [
       "<span style=\"color:blue\"> |-max_value: 512</span>"
      ],
      "text/plain": [
       "<IPython.core.display.HTML object>"
      ]
     },
     "metadata": {
      "tags": []
     },
     "output_type": "display_data"
    },
    {
     "data": {
      "text/html": [
       "<span style=\"color:cyan\"> |-min_value: 32</span>"
      ],
      "text/plain": [
       "<IPython.core.display.HTML object>"
      ]
     },
     "metadata": {
      "tags": []
     },
     "output_type": "display_data"
    },
    {
     "data": {
      "text/html": [
       "<span style=\"color:blue\"> |-sampling: None</span>"
      ],
      "text/plain": [
       "<IPython.core.display.HTML object>"
      ]
     },
     "metadata": {
      "tags": []
     },
     "output_type": "display_data"
    },
    {
     "data": {
      "text/html": [
       "<span style=\"color:cyan\"> |-step: 32</span>"
      ],
      "text/plain": [
       "<IPython.core.display.HTML object>"
      ]
     },
     "metadata": {
      "tags": []
     },
     "output_type": "display_data"
    },
    {
     "data": {
      "text/html": [
       "<span style=\"color:#7E57C2\"><h2 style=\"font-size:16px\">dropout_1 (Float)</h2></span>"
      ],
      "text/plain": [
       "<IPython.core.display.HTML object>"
      ]
     },
     "metadata": {
      "tags": []
     },
     "output_type": "display_data"
    },
    {
     "data": {
      "text/html": [
       "<span style=\"color:cyan\"> |-default: 0.25</span>"
      ],
      "text/plain": [
       "<IPython.core.display.HTML object>"
      ]
     },
     "metadata": {
      "tags": []
     },
     "output_type": "display_data"
    },
    {
     "data": {
      "text/html": [
       "<span style=\"color:blue\"> |-max_value: 0.5</span>"
      ],
      "text/plain": [
       "<IPython.core.display.HTML object>"
      ]
     },
     "metadata": {
      "tags": []
     },
     "output_type": "display_data"
    },
    {
     "data": {
      "text/html": [
       "<span style=\"color:cyan\"> |-min_value: 0.0</span>"
      ],
      "text/plain": [
       "<IPython.core.display.HTML object>"
      ]
     },
     "metadata": {
      "tags": []
     },
     "output_type": "display_data"
    },
    {
     "data": {
      "text/html": [
       "<span style=\"color:blue\"> |-sampling: None</span>"
      ],
      "text/plain": [
       "<IPython.core.display.HTML object>"
      ]
     },
     "metadata": {
      "tags": []
     },
     "output_type": "display_data"
    },
    {
     "data": {
      "text/html": [
       "<span style=\"color:cyan\"> |-step: 0.05</span>"
      ],
      "text/plain": [
       "<IPython.core.display.HTML object>"
      ]
     },
     "metadata": {
      "tags": []
     },
     "output_type": "display_data"
    },
    {
     "data": {
      "text/html": [
       "<span style=\"color:#7E57C2\"><h2 style=\"font-size:16px\">dense_activation (Choice)</h2></span>"
      ],
      "text/plain": [
       "<IPython.core.display.HTML object>"
      ]
     },
     "metadata": {
      "tags": []
     },
     "output_type": "display_data"
    },
    {
     "data": {
      "text/html": [
       "<span style=\"color:cyan\"> |-default: relu</span>"
      ],
      "text/plain": [
       "<IPython.core.display.HTML object>"
      ]
     },
     "metadata": {
      "tags": []
     },
     "output_type": "display_data"
    },
    {
     "data": {
      "text/html": [
       "<span style=\"color:blue\"> |-ordered: False</span>"
      ],
      "text/plain": [
       "<IPython.core.display.HTML object>"
      ]
     },
     "metadata": {
      "tags": []
     },
     "output_type": "display_data"
    },
    {
     "data": {
      "text/html": [
       "<span style=\"color:cyan\"> |-values: ['relu', 'tanh', 'sigmoid']</span>"
      ],
      "text/plain": [
       "<IPython.core.display.HTML object>"
      ]
     },
     "metadata": {
      "tags": []
     },
     "output_type": "display_data"
    },
    {
     "data": {
      "text/html": [
       "<span style=\"color:#7E57C2\"><h2 style=\"font-size:16px\">dropout_2 (Float)</h2></span>"
      ],
      "text/plain": [
       "<IPython.core.display.HTML object>"
      ]
     },
     "metadata": {
      "tags": []
     },
     "output_type": "display_data"
    },
    {
     "data": {
      "text/html": [
       "<span style=\"color:cyan\"> |-default: 0.25</span>"
      ],
      "text/plain": [
       "<IPython.core.display.HTML object>"
      ]
     },
     "metadata": {
      "tags": []
     },
     "output_type": "display_data"
    },
    {
     "data": {
      "text/html": [
       "<span style=\"color:blue\"> |-max_value: 0.5</span>"
      ],
      "text/plain": [
       "<IPython.core.display.HTML object>"
      ]
     },
     "metadata": {
      "tags": []
     },
     "output_type": "display_data"
    },
    {
     "data": {
      "text/html": [
       "<span style=\"color:cyan\"> |-min_value: 0.0</span>"
      ],
      "text/plain": [
       "<IPython.core.display.HTML object>"
      ]
     },
     "metadata": {
      "tags": []
     },
     "output_type": "display_data"
    },
    {
     "data": {
      "text/html": [
       "<span style=\"color:blue\"> |-sampling: None</span>"
      ],
      "text/plain": [
       "<IPython.core.display.HTML object>"
      ]
     },
     "metadata": {
      "tags": []
     },
     "output_type": "display_data"
    },
    {
     "data": {
      "text/html": [
       "<span style=\"color:cyan\"> |-step: 0.05</span>"
      ],
      "text/plain": [
       "<IPython.core.display.HTML object>"
      ]
     },
     "metadata": {
      "tags": []
     },
     "output_type": "display_data"
    },
    {
     "data": {
      "text/html": [
       "<span style=\"color:#7E57C2\"><h2 style=\"font-size:16px\">learning_rate (Float)</h2></span>"
      ],
      "text/plain": [
       "<IPython.core.display.HTML object>"
      ]
     },
     "metadata": {
      "tags": []
     },
     "output_type": "display_data"
    },
    {
     "data": {
      "text/html": [
       "<span style=\"color:cyan\"> |-default: 0.001</span>"
      ],
      "text/plain": [
       "<IPython.core.display.HTML object>"
      ]
     },
     "metadata": {
      "tags": []
     },
     "output_type": "display_data"
    },
    {
     "data": {
      "text/html": [
       "<span style=\"color:blue\"> |-max_value: 0.01</span>"
      ],
      "text/plain": [
       "<IPython.core.display.HTML object>"
      ]
     },
     "metadata": {
      "tags": []
     },
     "output_type": "display_data"
    },
    {
     "data": {
      "text/html": [
       "<span style=\"color:cyan\"> |-min_value: 0.0001</span>"
      ],
      "text/plain": [
       "<IPython.core.display.HTML object>"
      ]
     },
     "metadata": {
      "tags": []
     },
     "output_type": "display_data"
    },
    {
     "data": {
      "text/html": [
       "<span style=\"color:blue\"> |-sampling: log</span>"
      ],
      "text/plain": [
       "<IPython.core.display.HTML object>"
      ]
     },
     "metadata": {
      "tags": []
     },
     "output_type": "display_data"
    },
    {
     "data": {
      "text/html": [
       "<span style=\"color:cyan\"> |-step: None</span>"
      ],
      "text/plain": [
       "<IPython.core.display.HTML object>"
      ]
     },
     "metadata": {
      "tags": []
     },
     "output_type": "display_data"
    }
   ],
   "source": [
    "tuner.search_space_summary()"
   ]
  },
  {
   "cell_type": "code",
   "execution_count": null,
   "metadata": {
    "colab": {},
    "colab_type": "code",
    "id": "FWuPvjOBGIn0"
   },
   "outputs": [],
   "source": [
    "tuner.search(X_train, y_train,\n",
    "             epochs=80,\n",
    "            validation_data=(X_validation, y_validation))"
   ]
  },
  {
   "cell_type": "code",
   "execution_count": null,
   "metadata": {
    "colab": {
     "base_uri": "https://localhost:8080/",
     "height": 1000
    },
    "colab_type": "code",
    "id": "A7qGt9JpGRzb",
    "outputId": "046b4c09-2816-43ea-e4fa-e0caf723b304"
   },
   "outputs": [
    {
     "data": {
      "text/html": [
       "<span style=\"color:#4527A0\"><h1 style=\"font-size:18px\">Results summary</h1></span>"
      ],
      "text/plain": [
       "<IPython.core.display.HTML object>"
      ]
     },
     "metadata": {
      "tags": []
     },
     "output_type": "display_data"
    },
    {
     "data": {
      "text/html": [
       "<span style=\"color:cyan\"> |-Results in random_search/Speaker</span>"
      ],
      "text/plain": [
       "<IPython.core.display.HTML object>"
      ]
     },
     "metadata": {
      "tags": []
     },
     "output_type": "display_data"
    },
    {
     "data": {
      "text/html": [
       "<span style=\"color:cyan\"> |-Showing 10 best trials</span>"
      ],
      "text/plain": [
       "<IPython.core.display.HTML object>"
      ]
     },
     "metadata": {
      "tags": []
     },
     "output_type": "display_data"
    },
    {
     "data": {
      "text/html": [
       "<span style=\"color:cyan\"> |-Objective(name='val_accuracy', direction='max')</span>"
      ],
      "text/plain": [
       "<IPython.core.display.HTML object>"
      ]
     },
     "metadata": {
      "tags": []
     },
     "output_type": "display_data"
    },
    {
     "data": {
      "text/html": [
       "<span style=\"color:#4527A0\"><h1 style=\"font-size:18px\">Trial summary</h1></span>"
      ],
      "text/plain": [
       "<IPython.core.display.HTML object>"
      ]
     },
     "metadata": {
      "tags": []
     },
     "output_type": "display_data"
    },
    {
     "data": {
      "text/html": [
       "<span style=\"color:cyan\"> |-Trial ID: 5834fa8a3ebecd9532413dc60266b523</span>"
      ],
      "text/plain": [
       "<IPython.core.display.HTML object>"
      ]
     },
     "metadata": {
      "tags": []
     },
     "output_type": "display_data"
    },
    {
     "data": {
      "text/html": [
       "<span style=\"color:cyan\"> |-Score: 0.9563196897506714</span>"
      ],
      "text/plain": [
       "<IPython.core.display.HTML object>"
      ]
     },
     "metadata": {
      "tags": []
     },
     "output_type": "display_data"
    },
    {
     "data": {
      "text/html": [
       "<span style=\"color:cyan\"> |-Best step: 0</span>"
      ],
      "text/plain": [
       "<IPython.core.display.HTML object>"
      ]
     },
     "metadata": {
      "tags": []
     },
     "output_type": "display_data"
    },
    {
     "data": {
      "text/html": [
       "<span style=\"color:#7E57C2\"><h2 style=\"font-size:16px\">Hyperparameters:</h2></span>"
      ],
      "text/plain": [
       "<IPython.core.display.HTML object>"
      ]
     },
     "metadata": {
      "tags": []
     },
     "output_type": "display_data"
    },
    {
     "data": {
      "text/html": [
       "<span style=\"color:cyan\"> |-dense_activation: relu</span>"
      ],
      "text/plain": [
       "<IPython.core.display.HTML object>"
      ]
     },
     "metadata": {
      "tags": []
     },
     "output_type": "display_data"
    },
    {
     "data": {
      "text/html": [
       "<span style=\"color:blue\"> |-dropout_1: 0.30000000000000004</span>"
      ],
      "text/plain": [
       "<IPython.core.display.HTML object>"
      ]
     },
     "metadata": {
      "tags": []
     },
     "output_type": "display_data"
    },
    {
     "data": {
      "text/html": [
       "<span style=\"color:cyan\"> |-dropout_2: 0.25</span>"
      ],
      "text/plain": [
       "<IPython.core.display.HTML object>"
      ]
     },
     "metadata": {
      "tags": []
     },
     "output_type": "display_data"
    },
    {
     "data": {
      "text/html": [
       "<span style=\"color:blue\"> |-learning_rate: 0.0011971901340926848</span>"
      ],
      "text/plain": [
       "<IPython.core.display.HTML object>"
      ]
     },
     "metadata": {
      "tags": []
     },
     "output_type": "display_data"
    },
    {
     "data": {
      "text/html": [
       "<span style=\"color:cyan\"> |-units: 384</span>"
      ],
      "text/plain": [
       "<IPython.core.display.HTML object>"
      ]
     },
     "metadata": {
      "tags": []
     },
     "output_type": "display_data"
    },
    {
     "data": {
      "text/html": [
       "<span style=\"color:#4527A0\"><h1 style=\"font-size:18px\">Trial summary</h1></span>"
      ],
      "text/plain": [
       "<IPython.core.display.HTML object>"
      ]
     },
     "metadata": {
      "tags": []
     },
     "output_type": "display_data"
    },
    {
     "data": {
      "text/html": [
       "<span style=\"color:cyan\"> |-Trial ID: 19fa12b30490d685809f16ca3b22969d</span>"
      ],
      "text/plain": [
       "<IPython.core.display.HTML object>"
      ]
     },
     "metadata": {
      "tags": []
     },
     "output_type": "display_data"
    },
    {
     "data": {
      "text/html": [
       "<span style=\"color:cyan\"> |-Score: 0.9544609785079956</span>"
      ],
      "text/plain": [
       "<IPython.core.display.HTML object>"
      ]
     },
     "metadata": {
      "tags": []
     },
     "output_type": "display_data"
    },
    {
     "data": {
      "text/html": [
       "<span style=\"color:cyan\"> |-Best step: 0</span>"
      ],
      "text/plain": [
       "<IPython.core.display.HTML object>"
      ]
     },
     "metadata": {
      "tags": []
     },
     "output_type": "display_data"
    },
    {
     "data": {
      "text/html": [
       "<span style=\"color:#7E57C2\"><h2 style=\"font-size:16px\">Hyperparameters:</h2></span>"
      ],
      "text/plain": [
       "<IPython.core.display.HTML object>"
      ]
     },
     "metadata": {
      "tags": []
     },
     "output_type": "display_data"
    },
    {
     "data": {
      "text/html": [
       "<span style=\"color:cyan\"> |-dense_activation: tanh</span>"
      ],
      "text/plain": [
       "<IPython.core.display.HTML object>"
      ]
     },
     "metadata": {
      "tags": []
     },
     "output_type": "display_data"
    },
    {
     "data": {
      "text/html": [
       "<span style=\"color:blue\"> |-dropout_1: 0.45</span>"
      ],
      "text/plain": [
       "<IPython.core.display.HTML object>"
      ]
     },
     "metadata": {
      "tags": []
     },
     "output_type": "display_data"
    },
    {
     "data": {
      "text/html": [
       "<span style=\"color:cyan\"> |-dropout_2: 0.25</span>"
      ],
      "text/plain": [
       "<IPython.core.display.HTML object>"
      ]
     },
     "metadata": {
      "tags": []
     },
     "output_type": "display_data"
    },
    {
     "data": {
      "text/html": [
       "<span style=\"color:blue\"> |-learning_rate: 0.0006752863927347823</span>"
      ],
      "text/plain": [
       "<IPython.core.display.HTML object>"
      ]
     },
     "metadata": {
      "tags": []
     },
     "output_type": "display_data"
    },
    {
     "data": {
      "text/html": [
       "<span style=\"color:cyan\"> |-units: 256</span>"
      ],
      "text/plain": [
       "<IPython.core.display.HTML object>"
      ]
     },
     "metadata": {
      "tags": []
     },
     "output_type": "display_data"
    },
    {
     "data": {
      "text/html": [
       "<span style=\"color:#4527A0\"><h1 style=\"font-size:18px\">Trial summary</h1></span>"
      ],
      "text/plain": [
       "<IPython.core.display.HTML object>"
      ]
     },
     "metadata": {
      "tags": []
     },
     "output_type": "display_data"
    },
    {
     "data": {
      "text/html": [
       "<span style=\"color:cyan\"> |-Trial ID: 4424238369cc4bb1e54c9330b2c9c88a</span>"
      ],
      "text/plain": [
       "<IPython.core.display.HTML object>"
      ]
     },
     "metadata": {
      "tags": []
     },
     "output_type": "display_data"
    },
    {
     "data": {
      "text/html": [
       "<span style=\"color:cyan\"> |-Score: 0.9544609487056732</span>"
      ],
      "text/plain": [
       "<IPython.core.display.HTML object>"
      ]
     },
     "metadata": {
      "tags": []
     },
     "output_type": "display_data"
    },
    {
     "data": {
      "text/html": [
       "<span style=\"color:cyan\"> |-Best step: 0</span>"
      ],
      "text/plain": [
       "<IPython.core.display.HTML object>"
      ]
     },
     "metadata": {
      "tags": []
     },
     "output_type": "display_data"
    },
    {
     "data": {
      "text/html": [
       "<span style=\"color:#7E57C2\"><h2 style=\"font-size:16px\">Hyperparameters:</h2></span>"
      ],
      "text/plain": [
       "<IPython.core.display.HTML object>"
      ]
     },
     "metadata": {
      "tags": []
     },
     "output_type": "display_data"
    },
    {
     "data": {
      "text/html": [
       "<span style=\"color:cyan\"> |-dense_activation: relu</span>"
      ],
      "text/plain": [
       "<IPython.core.display.HTML object>"
      ]
     },
     "metadata": {
      "tags": []
     },
     "output_type": "display_data"
    },
    {
     "data": {
      "text/html": [
       "<span style=\"color:blue\"> |-dropout_1: 0.15000000000000002</span>"
      ],
      "text/plain": [
       "<IPython.core.display.HTML object>"
      ]
     },
     "metadata": {
      "tags": []
     },
     "output_type": "display_data"
    },
    {
     "data": {
      "text/html": [
       "<span style=\"color:cyan\"> |-dropout_2: 0.25</span>"
      ],
      "text/plain": [
       "<IPython.core.display.HTML object>"
      ]
     },
     "metadata": {
      "tags": []
     },
     "output_type": "display_data"
    },
    {
     "data": {
      "text/html": [
       "<span style=\"color:blue\"> |-learning_rate: 0.0013893292827173778</span>"
      ],
      "text/plain": [
       "<IPython.core.display.HTML object>"
      ]
     },
     "metadata": {
      "tags": []
     },
     "output_type": "display_data"
    },
    {
     "data": {
      "text/html": [
       "<span style=\"color:cyan\"> |-units: 416</span>"
      ],
      "text/plain": [
       "<IPython.core.display.HTML object>"
      ]
     },
     "metadata": {
      "tags": []
     },
     "output_type": "display_data"
    },
    {
     "data": {
      "text/html": [
       "<span style=\"color:#4527A0\"><h1 style=\"font-size:18px\">Trial summary</h1></span>"
      ],
      "text/plain": [
       "<IPython.core.display.HTML object>"
      ]
     },
     "metadata": {
      "tags": []
     },
     "output_type": "display_data"
    },
    {
     "data": {
      "text/html": [
       "<span style=\"color:cyan\"> |-Trial ID: 47b92879a64926e08dbef830ad2a2bf7</span>"
      ],
      "text/plain": [
       "<IPython.core.display.HTML object>"
      ]
     },
     "metadata": {
      "tags": []
     },
     "output_type": "display_data"
    },
    {
     "data": {
      "text/html": [
       "<span style=\"color:cyan\"> |-Score: 0.9488847851753235</span>"
      ],
      "text/plain": [
       "<IPython.core.display.HTML object>"
      ]
     },
     "metadata": {
      "tags": []
     },
     "output_type": "display_data"
    },
    {
     "data": {
      "text/html": [
       "<span style=\"color:cyan\"> |-Best step: 0</span>"
      ],
      "text/plain": [
       "<IPython.core.display.HTML object>"
      ]
     },
     "metadata": {
      "tags": []
     },
     "output_type": "display_data"
    },
    {
     "data": {
      "text/html": [
       "<span style=\"color:#7E57C2\"><h2 style=\"font-size:16px\">Hyperparameters:</h2></span>"
      ],
      "text/plain": [
       "<IPython.core.display.HTML object>"
      ]
     },
     "metadata": {
      "tags": []
     },
     "output_type": "display_data"
    },
    {
     "data": {
      "text/html": [
       "<span style=\"color:cyan\"> |-dense_activation: sigmoid</span>"
      ],
      "text/plain": [
       "<IPython.core.display.HTML object>"
      ]
     },
     "metadata": {
      "tags": []
     },
     "output_type": "display_data"
    },
    {
     "data": {
      "text/html": [
       "<span style=\"color:blue\"> |-dropout_1: 0.2</span>"
      ],
      "text/plain": [
       "<IPython.core.display.HTML object>"
      ]
     },
     "metadata": {
      "tags": []
     },
     "output_type": "display_data"
    },
    {
     "data": {
      "text/html": [
       "<span style=\"color:cyan\"> |-dropout_2: 0.05</span>"
      ],
      "text/plain": [
       "<IPython.core.display.HTML object>"
      ]
     },
     "metadata": {
      "tags": []
     },
     "output_type": "display_data"
    },
    {
     "data": {
      "text/html": [
       "<span style=\"color:blue\"> |-learning_rate: 0.0009887195863122636</span>"
      ],
      "text/plain": [
       "<IPython.core.display.HTML object>"
      ]
     },
     "metadata": {
      "tags": []
     },
     "output_type": "display_data"
    },
    {
     "data": {
      "text/html": [
       "<span style=\"color:cyan\"> |-units: 448</span>"
      ],
      "text/plain": [
       "<IPython.core.display.HTML object>"
      ]
     },
     "metadata": {
      "tags": []
     },
     "output_type": "display_data"
    },
    {
     "data": {
      "text/html": [
       "<span style=\"color:#4527A0\"><h1 style=\"font-size:18px\">Trial summary</h1></span>"
      ],
      "text/plain": [
       "<IPython.core.display.HTML object>"
      ]
     },
     "metadata": {
      "tags": []
     },
     "output_type": "display_data"
    },
    {
     "data": {
      "text/html": [
       "<span style=\"color:cyan\"> |-Trial ID: c0989c12fcbe90501f264e74be66efab</span>"
      ],
      "text/plain": [
       "<IPython.core.display.HTML object>"
      ]
     },
     "metadata": {
      "tags": []
     },
     "output_type": "display_data"
    },
    {
     "data": {
      "text/html": [
       "<span style=\"color:cyan\"> |-Score: 0.9488847553730011</span>"
      ],
      "text/plain": [
       "<IPython.core.display.HTML object>"
      ]
     },
     "metadata": {
      "tags": []
     },
     "output_type": "display_data"
    },
    {
     "data": {
      "text/html": [
       "<span style=\"color:cyan\"> |-Best step: 0</span>"
      ],
      "text/plain": [
       "<IPython.core.display.HTML object>"
      ]
     },
     "metadata": {
      "tags": []
     },
     "output_type": "display_data"
    },
    {
     "data": {
      "text/html": [
       "<span style=\"color:#7E57C2\"><h2 style=\"font-size:16px\">Hyperparameters:</h2></span>"
      ],
      "text/plain": [
       "<IPython.core.display.HTML object>"
      ]
     },
     "metadata": {
      "tags": []
     },
     "output_type": "display_data"
    },
    {
     "data": {
      "text/html": [
       "<span style=\"color:cyan\"> |-dense_activation: tanh</span>"
      ],
      "text/plain": [
       "<IPython.core.display.HTML object>"
      ]
     },
     "metadata": {
      "tags": []
     },
     "output_type": "display_data"
    },
    {
     "data": {
      "text/html": [
       "<span style=\"color:blue\"> |-dropout_1: 0.05</span>"
      ],
      "text/plain": [
       "<IPython.core.display.HTML object>"
      ]
     },
     "metadata": {
      "tags": []
     },
     "output_type": "display_data"
    },
    {
     "data": {
      "text/html": [
       "<span style=\"color:cyan\"> |-dropout_2: 0.45</span>"
      ],
      "text/plain": [
       "<IPython.core.display.HTML object>"
      ]
     },
     "metadata": {
      "tags": []
     },
     "output_type": "display_data"
    },
    {
     "data": {
      "text/html": [
       "<span style=\"color:blue\"> |-learning_rate: 0.000797425773423712</span>"
      ],
      "text/plain": [
       "<IPython.core.display.HTML object>"
      ]
     },
     "metadata": {
      "tags": []
     },
     "output_type": "display_data"
    },
    {
     "data": {
      "text/html": [
       "<span style=\"color:cyan\"> |-units: 192</span>"
      ],
      "text/plain": [
       "<IPython.core.display.HTML object>"
      ]
     },
     "metadata": {
      "tags": []
     },
     "output_type": "display_data"
    },
    {
     "data": {
      "text/html": [
       "<span style=\"color:#4527A0\"><h1 style=\"font-size:18px\">Trial summary</h1></span>"
      ],
      "text/plain": [
       "<IPython.core.display.HTML object>"
      ]
     },
     "metadata": {
      "tags": []
     },
     "output_type": "display_data"
    },
    {
     "data": {
      "text/html": [
       "<span style=\"color:cyan\"> |-Trial ID: 32b78e4b17b07b24b924cde78064ee38</span>"
      ],
      "text/plain": [
       "<IPython.core.display.HTML object>"
      ]
     },
     "metadata": {
      "tags": []
     },
     "output_type": "display_data"
    },
    {
     "data": {
      "text/html": [
       "<span style=\"color:cyan\"> |-Score: 0.9470260143280029</span>"
      ],
      "text/plain": [
       "<IPython.core.display.HTML object>"
      ]
     },
     "metadata": {
      "tags": []
     },
     "output_type": "display_data"
    },
    {
     "data": {
      "text/html": [
       "<span style=\"color:cyan\"> |-Best step: 0</span>"
      ],
      "text/plain": [
       "<IPython.core.display.HTML object>"
      ]
     },
     "metadata": {
      "tags": []
     },
     "output_type": "display_data"
    },
    {
     "data": {
      "text/html": [
       "<span style=\"color:#7E57C2\"><h2 style=\"font-size:16px\">Hyperparameters:</h2></span>"
      ],
      "text/plain": [
       "<IPython.core.display.HTML object>"
      ]
     },
     "metadata": {
      "tags": []
     },
     "output_type": "display_data"
    },
    {
     "data": {
      "text/html": [
       "<span style=\"color:cyan\"> |-dense_activation: tanh</span>"
      ],
      "text/plain": [
       "<IPython.core.display.HTML object>"
      ]
     },
     "metadata": {
      "tags": []
     },
     "output_type": "display_data"
    },
    {
     "data": {
      "text/html": [
       "<span style=\"color:blue\"> |-dropout_1: 0.05</span>"
      ],
      "text/plain": [
       "<IPython.core.display.HTML object>"
      ]
     },
     "metadata": {
      "tags": []
     },
     "output_type": "display_data"
    },
    {
     "data": {
      "text/html": [
       "<span style=\"color:cyan\"> |-dropout_2: 0.05</span>"
      ],
      "text/plain": [
       "<IPython.core.display.HTML object>"
      ]
     },
     "metadata": {
      "tags": []
     },
     "output_type": "display_data"
    },
    {
     "data": {
      "text/html": [
       "<span style=\"color:blue\"> |-learning_rate: 0.0002554705805046948</span>"
      ],
      "text/plain": [
       "<IPython.core.display.HTML object>"
      ]
     },
     "metadata": {
      "tags": []
     },
     "output_type": "display_data"
    },
    {
     "data": {
      "text/html": [
       "<span style=\"color:cyan\"> |-units: 416</span>"
      ],
      "text/plain": [
       "<IPython.core.display.HTML object>"
      ]
     },
     "metadata": {
      "tags": []
     },
     "output_type": "display_data"
    },
    {
     "data": {
      "text/html": [
       "<span style=\"color:#4527A0\"><h1 style=\"font-size:18px\">Trial summary</h1></span>"
      ],
      "text/plain": [
       "<IPython.core.display.HTML object>"
      ]
     },
     "metadata": {
      "tags": []
     },
     "output_type": "display_data"
    },
    {
     "data": {
      "text/html": [
       "<span style=\"color:cyan\"> |-Trial ID: 304052bf054f11e49b386d29417d8886</span>"
      ],
      "text/plain": [
       "<IPython.core.display.HTML object>"
      ]
     },
     "metadata": {
      "tags": []
     },
     "output_type": "display_data"
    },
    {
     "data": {
      "text/html": [
       "<span style=\"color:cyan\"> |-Score: 0.9358735978603363</span>"
      ],
      "text/plain": [
       "<IPython.core.display.HTML object>"
      ]
     },
     "metadata": {
      "tags": []
     },
     "output_type": "display_data"
    },
    {
     "data": {
      "text/html": [
       "<span style=\"color:cyan\"> |-Best step: 0</span>"
      ],
      "text/plain": [
       "<IPython.core.display.HTML object>"
      ]
     },
     "metadata": {
      "tags": []
     },
     "output_type": "display_data"
    },
    {
     "data": {
      "text/html": [
       "<span style=\"color:#7E57C2\"><h2 style=\"font-size:16px\">Hyperparameters:</h2></span>"
      ],
      "text/plain": [
       "<IPython.core.display.HTML object>"
      ]
     },
     "metadata": {
      "tags": []
     },
     "output_type": "display_data"
    },
    {
     "data": {
      "text/html": [
       "<span style=\"color:cyan\"> |-dense_activation: tanh</span>"
      ],
      "text/plain": [
       "<IPython.core.display.HTML object>"
      ]
     },
     "metadata": {
      "tags": []
     },
     "output_type": "display_data"
    },
    {
     "data": {
      "text/html": [
       "<span style=\"color:blue\"> |-dropout_1: 0.05</span>"
      ],
      "text/plain": [
       "<IPython.core.display.HTML object>"
      ]
     },
     "metadata": {
      "tags": []
     },
     "output_type": "display_data"
    },
    {
     "data": {
      "text/html": [
       "<span style=\"color:cyan\"> |-dropout_2: 0.35000000000000003</span>"
      ],
      "text/plain": [
       "<IPython.core.display.HTML object>"
      ]
     },
     "metadata": {
      "tags": []
     },
     "output_type": "display_data"
    },
    {
     "data": {
      "text/html": [
       "<span style=\"color:blue\"> |-learning_rate: 0.00025071332274895686</span>"
      ],
      "text/plain": [
       "<IPython.core.display.HTML object>"
      ]
     },
     "metadata": {
      "tags": []
     },
     "output_type": "display_data"
    },
    {
     "data": {
      "text/html": [
       "<span style=\"color:cyan\"> |-units: 288</span>"
      ],
      "text/plain": [
       "<IPython.core.display.HTML object>"
      ]
     },
     "metadata": {
      "tags": []
     },
     "output_type": "display_data"
    },
    {
     "data": {
      "text/html": [
       "<span style=\"color:#4527A0\"><h1 style=\"font-size:18px\">Trial summary</h1></span>"
      ],
      "text/plain": [
       "<IPython.core.display.HTML object>"
      ]
     },
     "metadata": {
      "tags": []
     },
     "output_type": "display_data"
    },
    {
     "data": {
      "text/html": [
       "<span style=\"color:cyan\"> |-Trial ID: 62dc0a84a35b7b9345750363f7113906</span>"
      ],
      "text/plain": [
       "<IPython.core.display.HTML object>"
      ]
     },
     "metadata": {
      "tags": []
     },
     "output_type": "display_data"
    },
    {
     "data": {
      "text/html": [
       "<span style=\"color:cyan\"> |-Score: 0.9340148866176605</span>"
      ],
      "text/plain": [
       "<IPython.core.display.HTML object>"
      ]
     },
     "metadata": {
      "tags": []
     },
     "output_type": "display_data"
    },
    {
     "data": {
      "text/html": [
       "<span style=\"color:cyan\"> |-Best step: 0</span>"
      ],
      "text/plain": [
       "<IPython.core.display.HTML object>"
      ]
     },
     "metadata": {
      "tags": []
     },
     "output_type": "display_data"
    },
    {
     "data": {
      "text/html": [
       "<span style=\"color:#7E57C2\"><h2 style=\"font-size:16px\">Hyperparameters:</h2></span>"
      ],
      "text/plain": [
       "<IPython.core.display.HTML object>"
      ]
     },
     "metadata": {
      "tags": []
     },
     "output_type": "display_data"
    },
    {
     "data": {
      "text/html": [
       "<span style=\"color:cyan\"> |-dense_activation: relu</span>"
      ],
      "text/plain": [
       "<IPython.core.display.HTML object>"
      ]
     },
     "metadata": {
      "tags": []
     },
     "output_type": "display_data"
    },
    {
     "data": {
      "text/html": [
       "<span style=\"color:blue\"> |-dropout_1: 0.25</span>"
      ],
      "text/plain": [
       "<IPython.core.display.HTML object>"
      ]
     },
     "metadata": {
      "tags": []
     },
     "output_type": "display_data"
    },
    {
     "data": {
      "text/html": [
       "<span style=\"color:cyan\"> |-dropout_2: 0.35000000000000003</span>"
      ],
      "text/plain": [
       "<IPython.core.display.HTML object>"
      ]
     },
     "metadata": {
      "tags": []
     },
     "output_type": "display_data"
    },
    {
     "data": {
      "text/html": [
       "<span style=\"color:blue\"> |-learning_rate: 0.006475590128522282</span>"
      ],
      "text/plain": [
       "<IPython.core.display.HTML object>"
      ]
     },
     "metadata": {
      "tags": []
     },
     "output_type": "display_data"
    },
    {
     "data": {
      "text/html": [
       "<span style=\"color:cyan\"> |-units: 192</span>"
      ],
      "text/plain": [
       "<IPython.core.display.HTML object>"
      ]
     },
     "metadata": {
      "tags": []
     },
     "output_type": "display_data"
    },
    {
     "data": {
      "text/html": [
       "<span style=\"color:#4527A0\"><h1 style=\"font-size:18px\">Trial summary</h1></span>"
      ],
      "text/plain": [
       "<IPython.core.display.HTML object>"
      ]
     },
     "metadata": {
      "tags": []
     },
     "output_type": "display_data"
    },
    {
     "data": {
      "text/html": [
       "<span style=\"color:cyan\"> |-Trial ID: 9944f6dcda2fc4608e1c2fa338515d5a</span>"
      ],
      "text/plain": [
       "<IPython.core.display.HTML object>"
      ]
     },
     "metadata": {
      "tags": []
     },
     "output_type": "display_data"
    },
    {
     "data": {
      "text/html": [
       "<span style=\"color:cyan\"> |-Score: 0.9275093078613281</span>"
      ],
      "text/plain": [
       "<IPython.core.display.HTML object>"
      ]
     },
     "metadata": {
      "tags": []
     },
     "output_type": "display_data"
    },
    {
     "data": {
      "text/html": [
       "<span style=\"color:cyan\"> |-Best step: 0</span>"
      ],
      "text/plain": [
       "<IPython.core.display.HTML object>"
      ]
     },
     "metadata": {
      "tags": []
     },
     "output_type": "display_data"
    },
    {
     "data": {
      "text/html": [
       "<span style=\"color:#7E57C2\"><h2 style=\"font-size:16px\">Hyperparameters:</h2></span>"
      ],
      "text/plain": [
       "<IPython.core.display.HTML object>"
      ]
     },
     "metadata": {
      "tags": []
     },
     "output_type": "display_data"
    },
    {
     "data": {
      "text/html": [
       "<span style=\"color:cyan\"> |-dense_activation: relu</span>"
      ],
      "text/plain": [
       "<IPython.core.display.HTML object>"
      ]
     },
     "metadata": {
      "tags": []
     },
     "output_type": "display_data"
    },
    {
     "data": {
      "text/html": [
       "<span style=\"color:blue\"> |-dropout_1: 0.30000000000000004</span>"
      ],
      "text/plain": [
       "<IPython.core.display.HTML object>"
      ]
     },
     "metadata": {
      "tags": []
     },
     "output_type": "display_data"
    },
    {
     "data": {
      "text/html": [
       "<span style=\"color:cyan\"> |-dropout_2: 0.2</span>"
      ],
      "text/plain": [
       "<IPython.core.display.HTML object>"
      ]
     },
     "metadata": {
      "tags": []
     },
     "output_type": "display_data"
    },
    {
     "data": {
      "text/html": [
       "<span style=\"color:blue\"> |-learning_rate: 0.0003497444477863496</span>"
      ],
      "text/plain": [
       "<IPython.core.display.HTML object>"
      ]
     },
     "metadata": {
      "tags": []
     },
     "output_type": "display_data"
    },
    {
     "data": {
      "text/html": [
       "<span style=\"color:cyan\"> |-units: 224</span>"
      ],
      "text/plain": [
       "<IPython.core.display.HTML object>"
      ]
     },
     "metadata": {
      "tags": []
     },
     "output_type": "display_data"
    },
    {
     "data": {
      "text/html": [
       "<span style=\"color:#4527A0\"><h1 style=\"font-size:18px\">Trial summary</h1></span>"
      ],
      "text/plain": [
       "<IPython.core.display.HTML object>"
      ]
     },
     "metadata": {
      "tags": []
     },
     "output_type": "display_data"
    },
    {
     "data": {
      "text/html": [
       "<span style=\"color:cyan\"> |-Trial ID: 5e24f0f691b25c73f0232151b2f0fdd4</span>"
      ],
      "text/plain": [
       "<IPython.core.display.HTML object>"
      ]
     },
     "metadata": {
      "tags": []
     },
     "output_type": "display_data"
    },
    {
     "data": {
      "text/html": [
       "<span style=\"color:cyan\"> |-Score: 0.9265799224376678</span>"
      ],
      "text/plain": [
       "<IPython.core.display.HTML object>"
      ]
     },
     "metadata": {
      "tags": []
     },
     "output_type": "display_data"
    },
    {
     "data": {
      "text/html": [
       "<span style=\"color:cyan\"> |-Best step: 0</span>"
      ],
      "text/plain": [
       "<IPython.core.display.HTML object>"
      ]
     },
     "metadata": {
      "tags": []
     },
     "output_type": "display_data"
    },
    {
     "data": {
      "text/html": [
       "<span style=\"color:#7E57C2\"><h2 style=\"font-size:16px\">Hyperparameters:</h2></span>"
      ],
      "text/plain": [
       "<IPython.core.display.HTML object>"
      ]
     },
     "metadata": {
      "tags": []
     },
     "output_type": "display_data"
    },
    {
     "data": {
      "text/html": [
       "<span style=\"color:cyan\"> |-dense_activation: tanh</span>"
      ],
      "text/plain": [
       "<IPython.core.display.HTML object>"
      ]
     },
     "metadata": {
      "tags": []
     },
     "output_type": "display_data"
    },
    {
     "data": {
      "text/html": [
       "<span style=\"color:blue\"> |-dropout_1: 0.2</span>"
      ],
      "text/plain": [
       "<IPython.core.display.HTML object>"
      ]
     },
     "metadata": {
      "tags": []
     },
     "output_type": "display_data"
    },
    {
     "data": {
      "text/html": [
       "<span style=\"color:cyan\"> |-dropout_2: 0.25</span>"
      ],
      "text/plain": [
       "<IPython.core.display.HTML object>"
      ]
     },
     "metadata": {
      "tags": []
     },
     "output_type": "display_data"
    },
    {
     "data": {
      "text/html": [
       "<span style=\"color:blue\"> |-learning_rate: 0.0033137745378583987</span>"
      ],
      "text/plain": [
       "<IPython.core.display.HTML object>"
      ]
     },
     "metadata": {
      "tags": []
     },
     "output_type": "display_data"
    },
    {
     "data": {
      "text/html": [
       "<span style=\"color:cyan\"> |-units: 64</span>"
      ],
      "text/plain": [
       "<IPython.core.display.HTML object>"
      ]
     },
     "metadata": {
      "tags": []
     },
     "output_type": "display_data"
    }
   ],
   "source": [
    "tuner.results_summary()"
   ]
  },
  {
   "cell_type": "code",
   "execution_count": null,
   "metadata": {
    "colab": {},
    "colab_type": "code",
    "id": "ExMTKmhyGOUv"
   },
   "outputs": [],
   "source": [
    "models = tuner.get_best_models(num_models=1)[0]"
   ]
  },
  {
   "cell_type": "code",
   "execution_count": null,
   "metadata": {
    "colab": {},
    "colab_type": "code",
    "id": "tP3aeCWTsEDl"
   },
   "outputs": [],
   "source": [
    "best_model = tuner.get_best_models(num_models=1)[0]"
   ]
  },
  {
   "cell_type": "code",
   "execution_count": null,
   "metadata": {
    "colab": {
     "base_uri": "https://localhost:8080/",
     "height": 35
    },
    "colab_type": "code",
    "id": "vGHDMKmSpJkk",
    "outputId": "50a46ca4-4be0-40ef-a3af-1df6d0f6e209"
   },
   "outputs": [
    {
     "name": "stdout",
     "output_type": "stream",
     "text": [
      "20/20 [==============================] - 0s 4ms/step - loss: 0.1552 - accuracy: 0.9589\n"
     ]
    }
   ],
   "source": [
    "loss, accuracy = best_model.evaluate(X_test, y_test)"
   ]
  },
  {
   "cell_type": "code",
   "execution_count": null,
   "metadata": {
    "colab": {},
    "colab_type": "code",
    "id": "vpoAcrNwstce"
   },
   "outputs": [],
   "source": [
    "best_model.save('/content/drive/My Drive/Saved model SR/NN MFCC /my_model_NN_MFCC_darija_bestmodel95_89.h5')"
   ]
  },
  {
   "cell_type": "markdown",
   "metadata": {},
   "source": [
    "<h2>Load the prepared data"
   ]
  },
  {
   "cell_type": "code",
   "execution_count": null,
   "metadata": {
    "colab": {},
    "colab_type": "code",
    "id": "TUkcd-2jPC9H"
   },
   "outputs": [],
   "source": [
    "dataset = \"C:/Users/zenno/Downloads/50_speakers_audio_data/\"\n",
    "json_path = \"/content/drive/My Drive/Sentiment Analysis/Speaker Recognition PFE/json_data_mffcs_darija5.json\""
   ]
  },
  {
   "cell_type": "code",
   "execution_count": null,
   "metadata": {
    "colab": {},
    "colab_type": "code",
    "id": "3jhEeEFYN8R0"
   },
   "outputs": [],
   "source": [
    "def features_target(json_path):\n",
    "\n",
    "    with open(json_path, \"r\") as jp:\n",
    "        data = json.load(jp)\n",
    "\n",
    "    X = np.array(data[\"MFCC\"])\n",
    "\n",
    "    y = np.array(data[\"speaker_labels\"])\n",
    "\n",
    "    return X, y"
   ]
  },
  {
   "cell_type": "code",
   "execution_count": null,
   "metadata": {
    "colab": {
     "base_uri": "https://localhost:8080/",
     "height": 54
    },
    "colab_type": "code",
    "id": "DbK8NYcdN-ry",
    "outputId": "37db864f-ebcb-42b4-8335-9862df2d8bdf"
   },
   "outputs": [
    {
     "name": "stdout",
     "output_type": "stream",
     "text": [
      "(4215, 20)\n"
     ]
    },
    {
     "data": {
      "text/plain": [
       "(4215,)"
      ]
     },
     "execution_count": 7,
     "metadata": {
      "tags": []
     },
     "output_type": "execute_result"
    }
   ],
   "source": [
    "X,y=features_target(json_path)\n",
    "print(X.shape)\n",
    "y.shape"
   ]
  },
  {
   "cell_type": "code",
   "execution_count": null,
   "metadata": {
    "colab": {},
    "colab_type": "code",
    "id": "ohhS0AT0OGZj"
   },
   "outputs": [],
   "source": [
    "def split_dataset(json_path, test_size=0.15,validation_size=0.15):\n",
    "\n",
    "    X, y = features_target (json_path)\n",
    "    X_train, X_test, y_train, y_test = train_test_split(X, y, test_size=test_size)\n",
    "    X_train, X_validation, y_train, y_validation = train_test_split(X_train, y_train, test_size=validation_size)\n",
    "    X_train = X_train[..., np.newaxis]\n",
    "    X_test = X_test[..., np.newaxis]\n",
    "    X_validation = X_validation[..., np.newaxis]\n",
    "    return X_train, y_train,X_validation,y_validation,X_test, y_test"
   ]
  },
  {
   "cell_type": "code",
   "execution_count": null,
   "metadata": {
    "colab": {
     "base_uri": "https://localhost:8080/",
     "height": 90
    },
    "colab_type": "code",
    "id": "i_GQA6yvOHco",
    "outputId": "c7923b12-c11c-45b8-8421-23af068c7e95"
   },
   "outputs": [
    {
     "name": "stdout",
     "output_type": "stream",
     "text": [
      "(3044, 20, 1)\n",
      "(538, 20, 1)\n",
      "(633, 20, 1)\n"
     ]
    },
    {
     "data": {
      "text/plain": [
       "3"
      ]
     },
     "execution_count": 9,
     "metadata": {
      "tags": []
     },
     "output_type": "execute_result"
    }
   ],
   "source": [
    "X_train,y_train,X_validation,y_validation,X_test,y_test=split_dataset(json_path)\n",
    "print(X_train.shape)\n",
    "print(X_validation.shape)\n",
    "print(X_test.shape)\n",
    "X_train.ndim\n",
    "#X_normalized = preprocessing.normalize(X_train[2], norm='l2')"
   ]
  },
  {
   "cell_type": "markdown",
   "metadata": {},
   "source": [
    "<h2>Build the model and train it"
   ]
  },
  {
   "cell_type": "code",
   "execution_count": null,
   "metadata": {
    "cellView": "both",
    "colab": {
     "base_uri": "https://localhost:8080/",
     "height": 35
    },
    "colab_type": "code",
    "id": "UZ3sRomc2QRL",
    "outputId": "a2b05286-b9f2-4623-c606-1cdb7599d02c"
   },
   "outputs": [
    {
     "name": "stdout",
     "output_type": "stream",
     "text": [
      "Defined the plot_the_model and plot_the_loss_curve functions.\n"
     ]
    }
   ],
   "source": [
    "def plot_the_accuracy_curve(epochs, accuracy,val_accuracy):\n",
    "  \"\"\"Plot a curve of loss vs. epoch.\"\"\"\n",
    "\n",
    "  plt.figure(figsize=(15, 5))\n",
    "  plt.xlabel(\"Epoch\")\n",
    "  plt.ylabel(\"accuracy\")\n",
    "\n",
    "  plt.plot(epochs, accuracy, label=\"train_accuracy\")\n",
    "  plt.plot(epochs, val_accuracy, label=\"val_accuracy\")\n",
    "  plt.legend()\n",
    "  #plt.ylim([accuracy.min()*0.97, accuracy.max()])\n",
    "  plt.show()  \n",
    "\n",
    "print(\"Defined the plot_the_model and plot_the_loss_curve functions.\")"
   ]
  },
  {
   "cell_type": "code",
   "execution_count": null,
   "metadata": {
    "cellView": "both",
    "colab": {
     "base_uri": "https://localhost:8080/",
     "height": 35
    },
    "colab_type": "code",
    "id": "iNv7jGqIvFzY",
    "outputId": "ee9cd7a9-5c8d-4431-dca6-2d33e77eded1"
   },
   "outputs": [
    {
     "name": "stdout",
     "output_type": "stream",
     "text": [
      "Defined the plot_the_model and plot_the_loss_curve functions.\n"
     ]
    }
   ],
   "source": [
    "def plot_the_loss_curve(epochs, loss,val_loss):\n",
    "  \"\"\"Plot a curve of loss vs. epoch.\"\"\"\n",
    "\n",
    "  plt.figure(figsize=(15, 5))\n",
    "  plt.xlabel(\"Epoch\")\n",
    "  plt.ylabel(\"Loss\")\n",
    "\n",
    "  plt.plot(epochs, loss, label=\"train_loss\")\n",
    "  plt.plot(epochs, val_loss, label=\"val_loss\")\n",
    "  plt.legend()\n",
    "  #plt.ylim([accuracy.min()*0.97, accuracy.max()])\n",
    "  plt.show()  \n",
    "\n",
    "print(\"Defined the plot_the_model and plot_the_loss_curve functions.\")"
   ]
  },
  {
   "cell_type": "code",
   "execution_count": null,
   "metadata": {
    "colab": {},
    "colab_type": "code",
    "id": "ygInkRnjggZT"
   },
   "outputs": [],
   "source": [
    "def build_model(learning_rate,input_shape):\n",
    "  \n",
    "   model = tf.keras.Sequential()\n",
    "\n",
    "   # input layer\n",
    "   model.add(tf.keras.layers.Flatten(input_shape=input_shape))\n",
    "\n",
    "   # 1st dense layer\n",
    "   model.add(tf.keras.layers.Dense(384, activation='relu'))\n",
    "   \n",
    "   # 2nd dense layer\n",
    "   model.add(tf.keras.layers.Dense(384, activation='relu'))\n",
    "   model.add(tf.keras.layers.Dropout(0.30000000000000004))\n",
    "\n",
    "   # 3rd dense layer\n",
    "   model.add(tf.keras.layers.Dense(384, activation='relu'))\n",
    "   model.add(tf.keras.layers.Dropout( 0.25))\n",
    "\n",
    "   # output layer\n",
    "   model.add(tf.keras.layers.Dense(75, activation='softmax'))\n",
    "   \n",
    "   # compile model\n",
    "   optimiser = tf.keras.optimizers.Adam(learning_rate)\n",
    "   model.compile(optimizer=optimiser,\n",
    "                  loss='sparse_categorical_crossentropy',\n",
    "                  metrics=['accuracy'])\n",
    "\n",
    "   model.summary()\n",
    "\n",
    "   return model"
   ]
  },
  {
   "cell_type": "code",
   "execution_count": null,
   "metadata": {
    "colab": {},
    "colab_type": "code",
    "id": "1biDMvSwGzxE"
   },
   "outputs": [],
   "source": [
    "def train_model(model,X_train,y_train,X_validation,y_validation,batch_size=32,epochs=100):\n",
    "  \n",
    "   earlystop_callback = tf.keras.callbacks.EarlyStopping(monitor=\"accuracy\", min_delta=0.001, patience=8)\n",
    "    # train model\n",
    "   model_trained = model.fit(X_train, y_train, validation_data=(X_validation, y_validation), \n",
    "                             batch_size=batch_size, epochs=epochs,  callbacks=[earlystop_callback])                \n",
    "   trained_weight = model.get_weights()[0]\n",
    "   trained_bias = model.get_weights()[1]\n",
    "   epochs = model_trained.epoch\n",
    "   hist = pd.DataFrame(model_trained.history)\n",
    "\n",
    "  # To track the progression of training, \n",
    "   accuracy=hist[\"accuracy\"]\n",
    "   val_accuracy=hist[\"val_accuracy\"]\n",
    "   loss=hist[\"loss\"]\n",
    "   val_loss=hist[\"val_loss\"]\n",
    "   return  epochs,accuracy,val_accuracy,loss,val_loss"
   ]
  },
  {
   "cell_type": "code",
   "execution_count": null,
   "metadata": {
    "colab": {
     "base_uri": "https://localhost:8080/",
     "height": 417
    },
    "colab_type": "code",
    "id": "Z4gpd_aWHqpf",
    "outputId": "852cb2f3-1a81-43fe-e1af-8636ea878668"
   },
   "outputs": [
    {
     "name": "stdout",
     "output_type": "stream",
     "text": [
      "Model: \"sequential_2\"\n",
      "_________________________________________________________________\n",
      "Layer (type)                 Output Shape              Param #   \n",
      "=================================================================\n",
      "flatten_2 (Flatten)          (None, 20)                0         \n",
      "_________________________________________________________________\n",
      "dense_8 (Dense)              (None, 384)               8064      \n",
      "_________________________________________________________________\n",
      "dense_9 (Dense)              (None, 384)               147840    \n",
      "_________________________________________________________________\n",
      "dropout_3 (Dropout)          (None, 384)               0         \n",
      "_________________________________________________________________\n",
      "dense_10 (Dense)             (None, 384)               147840    \n",
      "_________________________________________________________________\n",
      "dropout_4 (Dropout)          (None, 384)               0         \n",
      "_________________________________________________________________\n",
      "dense_11 (Dense)             (None, 75)                28875     \n",
      "=================================================================\n",
      "Total params: 332,619\n",
      "Trainable params: 332,619\n",
      "Non-trainable params: 0\n",
      "_________________________________________________________________\n"
     ]
    }
   ],
   "source": [
    "input_shape=(X_train.shape[1],1)\n",
    "model=build_model( 0.0011971901340926848,input_shape)"
   ]
  },
  {
   "cell_type": "code",
   "execution_count": null,
   "metadata": {
    "colab": {
     "base_uri": "https://localhost:8080/",
     "height": 1000
    },
    "colab_type": "code",
    "id": "PM_kU2lzHstG",
    "outputId": "9d00e85e-bd37-4f96-91c1-8a895a43e474"
   },
   "outputs": [
    {
     "name": "stdout",
     "output_type": "stream",
     "text": [
      "Epoch 1/100\n",
      "96/96 [==============================] - 1s 6ms/step - loss: 4.2755 - accuracy: 0.0338 - val_loss: 4.0229 - val_accuracy: 0.0465\n",
      "Epoch 2/100\n",
      "96/96 [==============================] - 0s 5ms/step - loss: 3.4357 - accuracy: 0.1045 - val_loss: 2.9263 - val_accuracy: 0.1338\n",
      "Epoch 3/100\n",
      "96/96 [==============================] - 0s 4ms/step - loss: 2.7579 - accuracy: 0.2181 - val_loss: 2.1028 - val_accuracy: 0.4312\n",
      "Epoch 4/100\n",
      "96/96 [==============================] - 0s 5ms/step - loss: 2.0901 - accuracy: 0.3850 - val_loss: 1.6068 - val_accuracy: 0.5260\n",
      "Epoch 5/100\n",
      "96/96 [==============================] - 0s 4ms/step - loss: 1.6307 - accuracy: 0.5131 - val_loss: 1.1957 - val_accuracy: 0.6654\n",
      "Epoch 6/100\n",
      "96/96 [==============================] - 0s 5ms/step - loss: 1.3007 - accuracy: 0.6015 - val_loss: 0.8368 - val_accuracy: 0.7788\n",
      "Epoch 7/100\n",
      "96/96 [==============================] - 0s 5ms/step - loss: 1.0634 - accuracy: 0.6741 - val_loss: 0.8052 - val_accuracy: 0.7937\n",
      "Epoch 8/100\n",
      "96/96 [==============================] - 0s 4ms/step - loss: 0.9172 - accuracy: 0.7099 - val_loss: 0.6530 - val_accuracy: 0.8104\n",
      "Epoch 9/100\n",
      "96/96 [==============================] - 0s 5ms/step - loss: 0.8238 - accuracy: 0.7395 - val_loss: 0.6104 - val_accuracy: 0.8216\n",
      "Epoch 10/100\n",
      "96/96 [==============================] - 0s 5ms/step - loss: 0.7426 - accuracy: 0.7618 - val_loss: 0.5735 - val_accuracy: 0.8327\n",
      "Epoch 11/100\n",
      "96/96 [==============================] - 0s 5ms/step - loss: 0.6505 - accuracy: 0.7901 - val_loss: 0.5343 - val_accuracy: 0.8383\n",
      "Epoch 12/100\n",
      "96/96 [==============================] - 0s 5ms/step - loss: 0.6368 - accuracy: 0.8029 - val_loss: 0.5116 - val_accuracy: 0.8625\n",
      "Epoch 13/100\n",
      "96/96 [==============================] - 0s 5ms/step - loss: 0.5627 - accuracy: 0.8223 - val_loss: 0.4614 - val_accuracy: 0.8550\n",
      "Epoch 14/100\n",
      "96/96 [==============================] - 0s 4ms/step - loss: 0.5278 - accuracy: 0.8325 - val_loss: 0.4460 - val_accuracy: 0.8680\n",
      "Epoch 15/100\n",
      "96/96 [==============================] - 0s 5ms/step - loss: 0.4719 - accuracy: 0.8564 - val_loss: 0.3782 - val_accuracy: 0.8941\n",
      "Epoch 16/100\n",
      "96/96 [==============================] - 0s 4ms/step - loss: 0.4355 - accuracy: 0.8597 - val_loss: 0.4187 - val_accuracy: 0.8829\n",
      "Epoch 17/100\n",
      "96/96 [==============================] - 0s 4ms/step - loss: 0.4288 - accuracy: 0.8633 - val_loss: 0.3680 - val_accuracy: 0.8978\n",
      "Epoch 18/100\n",
      "96/96 [==============================] - 0s 5ms/step - loss: 0.4054 - accuracy: 0.8725 - val_loss: 0.3805 - val_accuracy: 0.8829\n",
      "Epoch 19/100\n",
      "96/96 [==============================] - 0s 5ms/step - loss: 0.3714 - accuracy: 0.8857 - val_loss: 0.3616 - val_accuracy: 0.9089\n",
      "Epoch 20/100\n",
      "96/96 [==============================] - 0s 5ms/step - loss: 0.3543 - accuracy: 0.8804 - val_loss: 0.3619 - val_accuracy: 0.8941\n",
      "Epoch 21/100\n",
      "96/96 [==============================] - 0s 5ms/step - loss: 0.3510 - accuracy: 0.8840 - val_loss: 0.3234 - val_accuracy: 0.9071\n",
      "Epoch 22/100\n",
      "96/96 [==============================] - 0s 5ms/step - loss: 0.3408 - accuracy: 0.8857 - val_loss: 0.3324 - val_accuracy: 0.9071\n",
      "Epoch 23/100\n",
      "96/96 [==============================] - 0s 5ms/step - loss: 0.3456 - accuracy: 0.8850 - val_loss: 0.3274 - val_accuracy: 0.8996\n",
      "Epoch 24/100\n",
      "96/96 [==============================] - 0s 5ms/step - loss: 0.3170 - accuracy: 0.8998 - val_loss: 0.3712 - val_accuracy: 0.8959\n",
      "Epoch 25/100\n",
      "96/96 [==============================] - 0s 4ms/step - loss: 0.3031 - accuracy: 0.9041 - val_loss: 0.3003 - val_accuracy: 0.9071\n",
      "Epoch 26/100\n",
      "96/96 [==============================] - 0s 5ms/step - loss: 0.2791 - accuracy: 0.9031 - val_loss: 0.2733 - val_accuracy: 0.9182\n",
      "Epoch 27/100\n",
      "96/96 [==============================] - 0s 5ms/step - loss: 0.2694 - accuracy: 0.9120 - val_loss: 0.2463 - val_accuracy: 0.9257\n",
      "Epoch 28/100\n",
      "96/96 [==============================] - 0s 5ms/step - loss: 0.2526 - accuracy: 0.9156 - val_loss: 0.2468 - val_accuracy: 0.9294\n",
      "Epoch 29/100\n",
      "96/96 [==============================] - 0s 5ms/step - loss: 0.2626 - accuracy: 0.9143 - val_loss: 0.2519 - val_accuracy: 0.9126\n",
      "Epoch 30/100\n",
      "96/96 [==============================] - 0s 5ms/step - loss: 0.2439 - accuracy: 0.9202 - val_loss: 0.3348 - val_accuracy: 0.9033\n",
      "Epoch 31/100\n",
      "96/96 [==============================] - 0s 5ms/step - loss: 0.2278 - accuracy: 0.9244 - val_loss: 0.2829 - val_accuracy: 0.9238\n",
      "Epoch 32/100\n",
      "96/96 [==============================] - 0s 5ms/step - loss: 0.2182 - accuracy: 0.9261 - val_loss: 0.2414 - val_accuracy: 0.9275\n",
      "Epoch 33/100\n",
      "96/96 [==============================] - 0s 5ms/step - loss: 0.2290 - accuracy: 0.9261 - val_loss: 0.2574 - val_accuracy: 0.9331\n",
      "Epoch 34/100\n",
      "96/96 [==============================] - 0s 4ms/step - loss: 0.1941 - accuracy: 0.9369 - val_loss: 0.2677 - val_accuracy: 0.9219\n",
      "Epoch 35/100\n",
      "96/96 [==============================] - 0s 4ms/step - loss: 0.2060 - accuracy: 0.9284 - val_loss: 0.3569 - val_accuracy: 0.9015\n",
      "Epoch 36/100\n",
      "96/96 [==============================] - 0s 5ms/step - loss: 0.2007 - accuracy: 0.9379 - val_loss: 0.2093 - val_accuracy: 0.9387\n",
      "Epoch 37/100\n",
      "96/96 [==============================] - 0s 4ms/step - loss: 0.1840 - accuracy: 0.9376 - val_loss: 0.2485 - val_accuracy: 0.9257\n",
      "Epoch 38/100\n",
      "96/96 [==============================] - 0s 4ms/step - loss: 0.2028 - accuracy: 0.9333 - val_loss: 0.2573 - val_accuracy: 0.9294\n",
      "Epoch 39/100\n",
      "96/96 [==============================] - 0s 5ms/step - loss: 0.1754 - accuracy: 0.9425 - val_loss: 0.2675 - val_accuracy: 0.9275\n",
      "Epoch 40/100\n",
      "96/96 [==============================] - 0s 4ms/step - loss: 0.1714 - accuracy: 0.9428 - val_loss: 0.2039 - val_accuracy: 0.9424\n",
      "Epoch 41/100\n",
      "96/96 [==============================] - 0s 5ms/step - loss: 0.1756 - accuracy: 0.9409 - val_loss: 0.2716 - val_accuracy: 0.9275\n",
      "Epoch 42/100\n",
      "96/96 [==============================] - 0s 5ms/step - loss: 0.1687 - accuracy: 0.9425 - val_loss: 0.2039 - val_accuracy: 0.9368\n",
      "Epoch 43/100\n",
      "96/96 [==============================] - 0s 5ms/step - loss: 0.1874 - accuracy: 0.9359 - val_loss: 0.2155 - val_accuracy: 0.9498\n",
      "Epoch 44/100\n",
      "96/96 [==============================] - 0s 5ms/step - loss: 0.1756 - accuracy: 0.9445 - val_loss: 0.2110 - val_accuracy: 0.9368\n",
      "Epoch 45/100\n",
      "96/96 [==============================] - 0s 5ms/step - loss: 0.1590 - accuracy: 0.9494 - val_loss: 0.2445 - val_accuracy: 0.9312\n",
      "Epoch 46/100\n",
      "96/96 [==============================] - 0s 5ms/step - loss: 0.1661 - accuracy: 0.9428 - val_loss: 0.2162 - val_accuracy: 0.9331\n",
      "Epoch 47/100\n",
      "96/96 [==============================] - 0s 5ms/step - loss: 0.1385 - accuracy: 0.9530 - val_loss: 0.2124 - val_accuracy: 0.9368\n",
      "Epoch 48/100\n",
      "96/96 [==============================] - 0s 5ms/step - loss: 0.1798 - accuracy: 0.9415 - val_loss: 0.2007 - val_accuracy: 0.9424\n",
      "Epoch 49/100\n",
      "96/96 [==============================] - 0s 5ms/step - loss: 0.1600 - accuracy: 0.9458 - val_loss: 0.1842 - val_accuracy: 0.9480\n",
      "Epoch 50/100\n",
      "96/96 [==============================] - 0s 5ms/step - loss: 0.1274 - accuracy: 0.9566 - val_loss: 0.1859 - val_accuracy: 0.9480\n",
      "Epoch 51/100\n",
      "96/96 [==============================] - 0s 5ms/step - loss: 0.1279 - accuracy: 0.9553 - val_loss: 0.2179 - val_accuracy: 0.9480\n",
      "Epoch 52/100\n",
      "96/96 [==============================] - 0s 4ms/step - loss: 0.1435 - accuracy: 0.9507 - val_loss: 0.2409 - val_accuracy: 0.9424\n",
      "Epoch 53/100\n",
      "96/96 [==============================] - 0s 4ms/step - loss: 0.1367 - accuracy: 0.9524 - val_loss: 0.1784 - val_accuracy: 0.9517\n",
      "Epoch 54/100\n",
      "96/96 [==============================] - 0s 4ms/step - loss: 0.1354 - accuracy: 0.9534 - val_loss: 0.1965 - val_accuracy: 0.9480\n",
      "Epoch 55/100\n",
      "96/96 [==============================] - 0s 5ms/step - loss: 0.1242 - accuracy: 0.9576 - val_loss: 0.1649 - val_accuracy: 0.9554\n",
      "Epoch 56/100\n",
      "96/96 [==============================] - 0s 4ms/step - loss: 0.1191 - accuracy: 0.9606 - val_loss: 0.2030 - val_accuracy: 0.9405\n",
      "Epoch 57/100\n",
      "96/96 [==============================] - 0s 5ms/step - loss: 0.1237 - accuracy: 0.9576 - val_loss: 0.1997 - val_accuracy: 0.9424\n",
      "Epoch 58/100\n",
      "96/96 [==============================] - 0s 5ms/step - loss: 0.1056 - accuracy: 0.9652 - val_loss: 0.2053 - val_accuracy: 0.9461\n",
      "Epoch 59/100\n",
      "96/96 [==============================] - 0s 4ms/step - loss: 0.1217 - accuracy: 0.9602 - val_loss: 0.1645 - val_accuracy: 0.9591\n",
      "Epoch 60/100\n",
      "96/96 [==============================] - 0s 5ms/step - loss: 0.1113 - accuracy: 0.9616 - val_loss: 0.1816 - val_accuracy: 0.9517\n",
      "Epoch 61/100\n",
      "96/96 [==============================] - 0s 5ms/step - loss: 0.0953 - accuracy: 0.9675 - val_loss: 0.1656 - val_accuracy: 0.9554\n",
      "Epoch 62/100\n",
      "96/96 [==============================] - 0s 5ms/step - loss: 0.1174 - accuracy: 0.9616 - val_loss: 0.1876 - val_accuracy: 0.9517\n",
      "Epoch 63/100\n",
      "96/96 [==============================] - 0s 5ms/step - loss: 0.0933 - accuracy: 0.9678 - val_loss: 0.1807 - val_accuracy: 0.9498\n",
      "Epoch 64/100\n",
      "96/96 [==============================] - 0s 5ms/step - loss: 0.0898 - accuracy: 0.9691 - val_loss: 0.1948 - val_accuracy: 0.9591\n",
      "Epoch 65/100\n",
      "96/96 [==============================] - 0s 5ms/step - loss: 0.0996 - accuracy: 0.9629 - val_loss: 0.1939 - val_accuracy: 0.9480\n",
      "Epoch 66/100\n",
      "96/96 [==============================] - 0s 5ms/step - loss: 0.1031 - accuracy: 0.9678 - val_loss: 0.1986 - val_accuracy: 0.9554\n",
      "Epoch 67/100\n",
      "96/96 [==============================] - 0s 5ms/step - loss: 0.1132 - accuracy: 0.9625 - val_loss: 0.2580 - val_accuracy: 0.9424\n",
      "Epoch 68/100\n",
      "96/96 [==============================] - 0s 5ms/step - loss: 0.1193 - accuracy: 0.9629 - val_loss: 0.2277 - val_accuracy: 0.9517\n",
      "Epoch 69/100\n",
      "96/96 [==============================] - 0s 5ms/step - loss: 0.1331 - accuracy: 0.9543 - val_loss: 0.2323 - val_accuracy: 0.9498\n",
      "Epoch 70/100\n",
      "96/96 [==============================] - 0s 5ms/step - loss: 0.1011 - accuracy: 0.9681 - val_loss: 0.1764 - val_accuracy: 0.9535\n",
      "Epoch 71/100\n",
      "96/96 [==============================] - 0s 5ms/step - loss: 0.0877 - accuracy: 0.9678 - val_loss: 0.1503 - val_accuracy: 0.9628\n",
      "Epoch 72/100\n",
      "96/96 [==============================] - 0s 5ms/step - loss: 0.0885 - accuracy: 0.9691 - val_loss: 0.1824 - val_accuracy: 0.9517\n"
     ]
    }
   ],
   "source": [
    "epochs,accuracy,val_accuracy,loss,val_loss=train_model(model,X_train,y_train,X_validation,y_validation)"
   ]
  },
  {
   "cell_type": "code",
   "execution_count": null,
   "metadata": {
    "colab": {
     "base_uri": "https://localhost:8080/",
     "height": 586
    },
    "colab_type": "code",
    "id": "4Aj-NghGHib6",
    "outputId": "9bc1762c-55d5-494f-a65e-66c93abc27b4"
   },
   "outputs": [
    {
     "data": {
      "image/png": "[encoded data removed]",
      "text/plain": [
       "<Figure size 1080x360 with 1 Axes>"
      ]
     },
     "metadata": {
      "needs_background": "light",
      "tags": []
     },
     "output_type": "display_data"
    },
    {
     "data": {
      "image/png": "[encoded data removed]",
      "text/plain": [
       "<Figure size 1080x360 with 1 Axes>"
      ]
     },
     "metadata": {
      "needs_background": "light",
      "tags": []
     },
     "output_type": "display_data"
    }
   ],
   "source": [
    "#plot the metrics\n",
    "plot_the_accuracy_curve(epochs, accuracy,val_accuracy)\n",
    "plot_the_loss_curve(epochs, loss,val_loss)"
   ]
  },
  {
   "cell_type": "code",
   "execution_count": null,
   "metadata": {
    "colab": {
     "base_uri": "https://localhost:8080/",
     "height": 72
    },
    "colab_type": "code",
    "id": "6Pg-ajVSyB6d",
    "outputId": "7908ebcb-8374-43f6-b4a2-101e6111e08f"
   },
   "outputs": [
    {
     "name": "stdout",
     "output_type": "stream",
     "text": [
      "20/20 [==============================] - 0s 3ms/step - loss: 0.1254 - accuracy: 0.9621\n",
      "Loss: 0.1254\n",
      "Accuracy: 96.21%\n"
     ]
    }
   ],
   "source": [
    "loss,accuracy=model.evaluate(X_test,y_test)\n",
    "print(f\"Loss: {loss:.4f}\")\n",
    "print(f\"Accuracy: {accuracy*100:.2f}%\")"
   ]
  },
  {
   "cell_type": "code",
   "execution_count": null,
   "metadata": {
    "colab": {},
    "colab_type": "code",
    "id": "DdTba_JnMPiZ"
   },
   "outputs": [],
   "source": [
    "model.save('/content/drive/My Drive/Saved model SR/NN MFCC /my_model_NN_MFCC_darija_96_21.h5')"
   ]
  },
  {
   "cell_type": "markdown",
   "metadata": {
    "colab_type": "text",
    "id": "-O5VJmZebHR0"
   },
   "source": [
    "<h1>Test Level"
   ]
  },
  {
   "cell_type": "code",
   "execution_count": null,
   "metadata": {
    "colab": {},
    "colab_type": "code",
    "id": "saXLbqup-97s"
   },
   "outputs": [],
   "source": [
    "def pre_emphasis(signal,pre_emphasis=0.97):\n",
    "    emphasized_signal = np.append(signal[0], signal[1:] - pre_emphasis * signal[:-1])\n",
    "    return emphasized_signal"
   ]
  },
  {
   "cell_type": "code",
   "execution_count": null,
   "metadata": {
    "colab": {},
    "colab_type": "code",
    "id": "yWHExJVM-97x"
   },
   "outputs": [],
   "source": [
    "def framing(signal,sample_rate=16000,frame_size=0.025,step_size=0.010):\n",
    "        frame_length = int(np.floor(frame_size * sample_rate))\n",
    "        frame_shift = int(np.floor(step_size * sample_rate))\n",
    "        signal_length=len(signal)\n",
    "        hamwin = np.hamming(frame_length)\n",
    "        num_frames = int(np.ceil(float(np.abs(signal_length - frame_length)) / frame_shift))\n",
    "        frames = np.zeros([frame_length, num_frames])\n",
    "        indices = np.tile(np.arange(0, frame_length), (num_frames, 1)) + np.tile(np.arange(0, num_frames * frame_shift, frame_shift), (frame_length, 1)).T\n",
    "        frames=signal[indices]    \n",
    "        frames = frames*hamwin\n",
    "        return frames"
   ]
  },
  {
   "cell_type": "code",
   "execution_count": null,
   "metadata": {
    "colab": {},
    "colab_type": "code",
    "id": "gujSNXqg-971"
   },
   "outputs": [],
   "source": [
    "def deframing(frames,sample_rate=16000,frame_size=0.025,step_size=0.010):\n",
    "        frame_length = int(np.floor(frame_size * sample_rate))\n",
    "        frame_shift = int(np.floor(step_size * sample_rate))\n",
    "        hamwin = np.hamming(frame_length)\n",
    "        num_frames=frames.shape[0]\n",
    "        indices = np.tile(np.arange(0, frame_length), (num_frames, 1)) + np.tile(np.arange(0, num_frames * frame_shift, frame_shift), (frame_length, 1)).T\n",
    "        padlen = (num_frames - 1) * frame_shift + frame_length\n",
    "        nwsignal=np.zeros(padlen)\n",
    "        remv_win=np.zeros(padlen)\n",
    "        e=0.0000001\n",
    "        for i in range(num_frames):\n",
    "          remv_win[indices[i,:]]=remv_win[indices[i,:]]+hamwin+e\n",
    "          nwsignal[indices[i,:]]=nwsignal[indices[i,:]]+frames[i,:]\n",
    "        nwsignal=nwsignal/remv_win\n",
    "        return nwsignal"
   ]
  },
  {
   "cell_type": "code",
   "execution_count": null,
   "metadata": {
    "colab": {},
    "colab_type": "code",
    "id": "IZxdEShT-979"
   },
   "outputs": [],
   "source": [
    "def Zero_crossing_rate(frame):                           \n",
    "      zr = 0\n",
    "      for k in range(1, len(frame)):\n",
    "            if (0.5*abs(np.sign(frame[k]) - np.sign(frame[k - 1])))==1:\n",
    "                zr+=1\n",
    "      return zr/len(frame)"
   ]
  },
  {
   "cell_type": "code",
   "execution_count": null,
   "metadata": {
    "colab": {},
    "colab_type": "code",
    "id": "UlWZE5SF-98B"
   },
   "outputs": [],
   "source": [
    "def short_time_Energy(frames):\n",
    "    return sum( [abs(x)**2 for x in frames] ) "
   ]
  },
  {
   "cell_type": "code",
   "execution_count": null,
   "metadata": {
    "colab": {},
    "colab_type": "code",
    "id": "uZ3OARGz-98G"
   },
   "outputs": [],
   "source": [
    "def VAD(signal,sample_rate):\n",
    "    frames=framing(signal,sample_rate)\n",
    "    frame_size=0.025\n",
    "    win_size = int(np.floor(frame_size * sample_rate))\n",
    "    framess=np.array([])\n",
    "    index=[]\n",
    "    for i,f in enumerate(frames):\n",
    "        if (short_time_Energy(f)<0.05 and Zero_crossing_rate(f)>0.4):\n",
    "            index.append(i)\n",
    "    framess=np.delete(frames,index,0)\n",
    "    new_signal=deframing(framess)\n",
    "    return new_signal"
   ]
  },
  {
   "cell_type": "code",
   "execution_count": null,
   "metadata": {
    "colab": {},
    "colab_type": "code",
    "id": "4OOIAju_4hf_"
   },
   "outputs": [],
   "source": [
    "def get_MFCC(signal, sample_rate=16000,duration=60):\n",
    "  \n",
    "    sample=int((sample_rate*duration)/3)\n",
    "    if len(signal) >= sample:\n",
    "         signal = signal[:sample]\n",
    "    mfcc = librosa.feature.mfcc(signal, sr=sample_rate,n_mfcc=20,hop_length=int(0.010 *sample_rate), n_fft = int(0.025 * sample_rate))\n",
    "    print(mfcc.shape)\n",
    "    #delta_mfcc=librosa.feature.delta(mfcc,order=1)\n",
    "    mfcc_features= np.mean(mfcc,1)\n",
    "    mfcc_features= (mfcc_features-np.mean(mfcc_features))/np.std(mfcc_features)\n",
    "    \n",
    "    return mfcc_features.T"
   ]
  },
  {
   "cell_type": "code",
   "execution_count": null,
   "metadata": {
    "colab": {},
    "colab_type": "code",
    "id": "RX5Nkx9_-9-E"
   },
   "outputs": [],
   "source": [
    "def pre(file,sample_rate):\n",
    "    \n",
    "    signal, sample_rate = librosa.load(file,sr=sample_rate)\n",
    "\n",
    "                    #normalise the signal\n",
    "    #signal=signal/np.max(signal)\n",
    "                    \n",
    "                    #Pre_emphasis\n",
    "    signal=pre_emphasis(signal)\n",
    "\n",
    "                    #VAD\n",
    "    signal=VAD(signal,sample_rate)\n",
    "\n",
    "                    # extract MFCC\n",
    "    mfcc=get_MFCC(signal)\n",
    "         \n",
    "                    \n",
    "    return mfcc"
   ]
  },
  {
   "cell_type": "code",
   "execution_count": null,
   "metadata": {
    "colab": {
     "base_uri": "https://localhost:8080/",
     "height": 55
    },
    "colab_type": "code",
    "id": "MdnE77an3t6W",
    "outputId": "ba40beec-e2ed-4d0e-a4c1-5cb2628118bb"
   },
   "outputs": [
    {
     "name": "stdout",
     "output_type": "stream",
     "text": [
      "Predicted labels: [42, 42, 50, 62, 69, 9, 24, 58, 20, 15] True labels: [42, 42, 50, 62, 69, 9, 24, 58, 20, 15]\n"
     ]
    }
   ],
   "source": [
    "predict_iterator =model.predict(X_test)\n",
    "\n",
    "\n",
    "predicted_labels = []\n",
    "\n",
    "for pred in predict_iterator:\n",
    "    predicted_labels += np.argmax(pred).flatten().tolist()\n",
    "\n",
    "print('Predicted labels:', predicted_labels[:10], 'True labels:', y_test[:10].tolist())"
   ]
  },
  {
   "cell_type": "code",
   "execution_count": null,
   "metadata": {
    "colab": {},
    "colab_type": "code",
    "id": "GrBjW2vZMqpy"
   },
   "outputs": [],
   "source": [
    "NN_model =  tf.keras.models.load_model('/content/drive/My Drive/Saved model SR/NN MFCC /my_model_NN_MFCC_darija_bestmodel95_89.h5')\n",
    "#NN_model.summary()\n",
    "NN_model.get_weights()\n",
    "#NN_model.evaluate(X_test,y_test)"
   ]
  },
  {
   "cell_type": "code",
   "execution_count": null,
   "metadata": {
    "colab": {
     "base_uri": "https://localhost:8080/",
     "height": 54
    },
    "colab_type": "code",
    "id": "UZEyrBZc9FXO",
    "outputId": "87fe1efa-b31b-4726-8fa1-98485a5486ae"
   },
   "outputs": [
    {
     "name": "stdout",
     "output_type": "stream",
     "text": [
      "(20, 2001)\n",
      "(20, 971)\n"
     ]
    }
   ],
   "source": [
    "file1=\"/content/drive/My Drive/Colab Notebooks/mix_27s (audio-joiner.com).wav\"\n",
    "file47=\"/content/drive/My Drive/Colab Notebooks/mix_10s (audio-joiner.com).wav\"\n",
    "unknow_speaker_1=pre(file1,16000)\n",
    "unknow_speaker_47=pre(file47,16000)"
   ]
  },
  {
   "cell_type": "code",
   "execution_count": null,
   "metadata": {
    "colab": {
     "base_uri": "https://localhost:8080/",
     "height": 54
    },
    "colab_type": "code",
    "id": "gniOWTg4KCtQ",
    "outputId": "e8e3903b-7248-45df-b56e-cd91c77f1e26"
   },
   "outputs": [
    {
     "name": "stdout",
     "output_type": "stream",
     "text": [
      "(20,)\n"
     ]
    },
    {
     "data": {
      "text/plain": [
       "(1, 20)"
      ]
     },
     "execution_count": 117,
     "metadata": {
      "tags": []
     },
     "output_type": "execute_result"
    }
   ],
   "source": [
    "speaker1=np.array(unknow_speaker_1)\n",
    "\n",
    "speaker47=np.array(unknow_speaker_47)\n",
    "\n",
    "print(speaker1.shape)\n",
    "\n",
    "speaker1 = speaker1[np.newaxis,...]\n",
    "\n",
    "#speaker1 = speaker1[...,np.newaxis]\n",
    "\n",
    "speaker47 = speaker47[np.newaxis,...]\n",
    "\n",
    "#speaker47 = speaker47[...,np.newaxis]\n",
    "\n",
    "speaker1.shape"
   ]
  },
  {
   "cell_type": "code",
   "execution_count": null,
   "metadata": {
    "colab": {
     "base_uri": "https://localhost:8080/",
     "height": 401
    },
    "colab_type": "code",
    "id": "sIRoC7PA3aYQ",
    "outputId": "f749cd0a-5bca-4165-8257-c0575975466d"
   },
   "outputs": [
    {
     "name": "stdout",
     "output_type": "stream",
     "text": [
      "the speaker predicted by our model is: Speaker Elamri Yassine avec une certainité de 85.38692593574524 %\n"
     ]
    },
    {
     "data": {
      "text/plain": [
       "array([[4.97309642e-08, 2.58313436e-02, 2.87045249e-10, 3.24194588e-10,\n",
       "        2.01267940e-05, 4.49757592e-12, 2.28060131e-07, 6.24287507e-15,\n",
       "        2.11990752e-07, 1.37192602e-09, 2.91721551e-12, 8.15136730e-07,\n",
       "        2.92515596e-19, 2.13729940e-08, 1.14615310e-10, 3.13494647e-10,\n",
       "        2.36365867e-16, 3.99540255e-07, 4.30860521e-11, 1.67769772e-15,\n",
       "        5.26832301e-14, 7.30844066e-11, 2.56765417e-14, 2.08214542e-16,\n",
       "        4.12909649e-05, 1.14953091e-05, 4.05686620e-07, 8.53869259e-01,\n",
       "        3.72470321e-09, 4.75839647e-15, 6.02965997e-08, 1.66659484e-05,\n",
       "        3.82674509e-03, 1.16037786e-01, 4.82156632e-21, 6.02054968e-07,\n",
       "        6.65605025e-18, 1.59057578e-09, 6.63114103e-17, 1.94794602e-15,\n",
       "        8.51520740e-16, 2.22287115e-20, 2.54998458e-08, 3.56122870e-20,\n",
       "        2.82152366e-17, 5.25201125e-17, 3.97039381e-11, 1.28456190e-09,\n",
       "        1.75254993e-12, 3.96118104e-11, 2.34290898e-08, 9.54611095e-17,\n",
       "        6.70745067e-06, 2.21100563e-13, 3.30076140e-16, 7.53575975e-08,\n",
       "        1.37198047e-04, 1.22350830e-05, 3.06303173e-14, 3.57441399e-14,\n",
       "        4.17499424e-10, 2.02669356e-13, 8.18379219e-13, 9.14848192e-18,\n",
       "        2.96295150e-12, 2.55557972e-15, 3.45361455e-14, 9.08465809e-05,\n",
       "        1.36733805e-10, 4.05794253e-18, 1.13146777e-10, 7.12471748e-12,\n",
       "        2.01901468e-10, 9.54025381e-05, 5.71335911e-21]], dtype=float32)"
      ]
     },
     "execution_count": 118,
     "metadata": {
      "tags": []
     },
     "output_type": "execute_result"
    }
   ],
   "source": [
    "prded=model.predict([speaker1])\n",
    "\n",
    "prd=np.argmax(prded)\n",
    "with open(json_path, \"r\") as jp:\n",
    "        data = json.load(jp)\n",
    "speakers=data[\"speakers\"]\n",
    "print(\"the speaker predicted by our model is: Speaker {} avec une certainité de {} %\".format(speakers[prd],np.max(prded)*100))\n",
    "\n",
    "prded"
   ]
  },
  {
   "cell_type": "code",
   "execution_count": null,
   "metadata": {
    "colab": {
     "base_uri": "https://localhost:8080/",
     "height": 437
    },
    "colab_type": "code",
    "id": "NT2y_9-e9mMu",
    "outputId": "d774fad8-d9b9-49be-bd84-58c5d3fa1436"
   },
   "outputs": [
    {
     "name": "stdout",
     "output_type": "stream",
     "text": [
      "[3.70193050e-08 2.64103319e-02 6.09996754e-13 4.88651957e-12\n",
      " 1.52686290e-08 4.14833203e-11 6.04044637e-09 3.07029708e-15\n",
      " 1.97153508e-06 6.49594378e-10 1.10555107e-10 1.17466833e-07\n",
      " 1.05534404e-19 6.66583233e-08 8.71617015e-11 4.27735597e-10\n",
      " 6.46559697e-14 2.29018298e-08 3.24551753e-14 3.22803039e-16\n",
      " 7.74568061e-16 2.53922855e-10 5.92397691e-16 1.19615531e-16\n",
      " 6.21583895e-04 4.15595772e-04 6.70750239e-07 2.48926394e-02\n",
      " 4.59120963e-10 5.33376674e-13 5.86791145e-07 4.47514367e-06\n",
      " 9.46634352e-01 2.99388950e-04 2.39965863e-21 6.70553879e-09\n",
      " 4.11101978e-15 8.24196126e-13 2.18302837e-16 9.95321515e-14\n",
      " 5.50321236e-14 2.40001802e-19 2.14884596e-10 9.25963943e-20\n",
      " 1.43011339e-18 3.28962821e-15 5.97181809e-12 2.49437335e-07\n",
      " 2.38261711e-12 3.25221967e-12 1.40375107e-06 1.60153582e-17\n",
      " 5.25818141e-05 9.81741933e-15 8.52668681e-16 2.49911758e-10\n",
      " 6.31481991e-04 2.14028910e-06 4.77917228e-12 1.03012530e-14\n",
      " 3.83714891e-12 1.83363168e-14 8.71454926e-13 1.48383629e-17\n",
      " 1.32490321e-11 1.35681888e-15 4.46873831e-15 3.01657801e-05\n",
      " 8.37388492e-11 1.85761644e-16 1.93118410e-09 2.44343012e-13\n",
      " 8.05918735e-11 1.82756636e-07 3.69356944e-21]\n",
      "1.931184e-09\n",
      "the speakers Talking in this conversation are :  Garti Zakaria , Achabab Farah and Elamri Yassine and Morabit Karima\n",
      "proba 94.66343522071838, 2.6410331949591637, 2.4892639368772507 and 0.06314819911494851\n"
     ]
    }
   ],
   "source": [
    "prd=model.predict([speaker47])\n",
    "\n",
    "ar=prd.flatten()\n",
    "print(ar)\n",
    "indx=ar.argsort()[-4:][::-1]\n",
    "\n",
    "with open(json_path, \"r\") as jp:\n",
    "        data = json.load(jp)\n",
    "\n",
    "speakers=data[\"speakers\"]\n",
    "print(ar[70])\n",
    "print(\"the speakers Talking in this conversation are :  {} , {} and {} and {}\".format(speakers[indx[0]],speakers[indx[1]],speakers[indx[2]],speakers[indx[3]]))\n",
    "print(\"proba {}, {}, {} and {}\".format(ar[indx[0]]*100,ar[indx[1]]*100,ar[indx[2]]*100,ar[indx[3]]*100))"
   ]
  }
 ],
 "metadata": {
  "accelerator": "GPU",
  "colab": {
   "collapsed_sections": [],
   "name": "Speech recognition with Neural Network",
   "provenance": [],
   "toc_visible": true
  },
  "kernelspec": {
   "display_name": "Python 3",
   "language": "python",
   "name": "python3"
  },
  "language_info": {
   "codemirror_mode": {
    "name": "ipython",
    "version": 3
   },
   "file_extension": ".py",
   "mimetype": "text/x-python",
   "name": "python",
   "nbconvert_exporter": "python",
   "pygments_lexer": "ipython3",
   "version": "3.7.6"
  }
 },
 "nbformat": 4,
 "nbformat_minor": 1
}
